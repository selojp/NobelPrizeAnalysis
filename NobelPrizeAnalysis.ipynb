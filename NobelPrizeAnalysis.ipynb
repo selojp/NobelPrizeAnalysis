{
 "cells": [
  {
   "cell_type": "markdown",
   "metadata": {},
   "source": [
    "# Analysis of the History of Nobel Prizes "
   ]
  },
  {
   "cell_type": "code",
   "execution_count": 1,
   "metadata": {},
   "outputs": [],
   "source": [
    "# Import main libraries:\n",
    "import pandas as pd\n",
    "import numpy as np\n",
    "import seaborn as sns\n",
    "import matplotlib.pyplot as plt"
   ]
  },
  {
   "cell_type": "code",
   "execution_count": 2,
   "metadata": {},
   "outputs": [],
   "source": [
    "# Load the Nobel Prize data\n",
    "df = pd.read_csv('dataset.csv')"
   ]
  },
  {
   "cell_type": "code",
   "execution_count": 3,
   "metadata": {},
   "outputs": [
    {
     "data": {
      "text/html": [
       "<div>\n",
       "<style scoped>\n",
       "    .dataframe tbody tr th:only-of-type {\n",
       "        vertical-align: middle;\n",
       "    }\n",
       "\n",
       "    .dataframe tbody tr th {\n",
       "        vertical-align: top;\n",
       "    }\n",
       "\n",
       "    .dataframe thead th {\n",
       "        text-align: right;\n",
       "    }\n",
       "</style>\n",
       "<table border=\"1\" class=\"dataframe\">\n",
       "  <thead>\n",
       "    <tr style=\"text-align: right;\">\n",
       "      <th></th>\n",
       "      <th>Year</th>\n",
       "      <th>Category</th>\n",
       "      <th>Prize</th>\n",
       "      <th>Motivation</th>\n",
       "      <th>Prize Share</th>\n",
       "      <th>Laureate ID</th>\n",
       "      <th>Laureate Type</th>\n",
       "      <th>Full Name</th>\n",
       "      <th>Birth Date</th>\n",
       "      <th>Birth City</th>\n",
       "      <th>Birth Country</th>\n",
       "      <th>Sex</th>\n",
       "      <th>Organization Name</th>\n",
       "      <th>Organization City</th>\n",
       "      <th>Organization Country</th>\n",
       "      <th>Death Date</th>\n",
       "      <th>Death City</th>\n",
       "      <th>Death Country</th>\n",
       "    </tr>\n",
       "  </thead>\n",
       "  <tbody>\n",
       "    <tr>\n",
       "      <th>0</th>\n",
       "      <td>1901</td>\n",
       "      <td>Chemistry</td>\n",
       "      <td>The Nobel Prize in Chemistry 1901</td>\n",
       "      <td>\"in recognition of the extraordinary services ...</td>\n",
       "      <td>1/1</td>\n",
       "      <td>160</td>\n",
       "      <td>Individual</td>\n",
       "      <td>Jacobus Henricus van 't Hoff</td>\n",
       "      <td>1852-08-30</td>\n",
       "      <td>Rotterdam</td>\n",
       "      <td>Netherlands</td>\n",
       "      <td>Male</td>\n",
       "      <td>Berlin University</td>\n",
       "      <td>Berlin</td>\n",
       "      <td>Germany</td>\n",
       "      <td>1911-03-01</td>\n",
       "      <td>Berlin</td>\n",
       "      <td>Germany</td>\n",
       "    </tr>\n",
       "    <tr>\n",
       "      <th>1</th>\n",
       "      <td>1901</td>\n",
       "      <td>Literature</td>\n",
       "      <td>The Nobel Prize in Literature 1901</td>\n",
       "      <td>\"in special recognition of his poetic composit...</td>\n",
       "      <td>1/1</td>\n",
       "      <td>569</td>\n",
       "      <td>Individual</td>\n",
       "      <td>Sully Prudhomme</td>\n",
       "      <td>1839-03-16</td>\n",
       "      <td>Paris</td>\n",
       "      <td>France</td>\n",
       "      <td>Male</td>\n",
       "      <td>NaN</td>\n",
       "      <td>NaN</td>\n",
       "      <td>NaN</td>\n",
       "      <td>1907-09-07</td>\n",
       "      <td>Châtenay</td>\n",
       "      <td>France</td>\n",
       "    </tr>\n",
       "    <tr>\n",
       "      <th>2</th>\n",
       "      <td>1901</td>\n",
       "      <td>Medicine</td>\n",
       "      <td>The Nobel Prize in Physiology or Medicine 1901</td>\n",
       "      <td>\"for his work on serum therapy, especially its...</td>\n",
       "      <td>1/1</td>\n",
       "      <td>293</td>\n",
       "      <td>Individual</td>\n",
       "      <td>Emil Adolf von Behring</td>\n",
       "      <td>1854-03-15</td>\n",
       "      <td>Hansdorf (Lawice)</td>\n",
       "      <td>Prussia (Poland)</td>\n",
       "      <td>Male</td>\n",
       "      <td>Marburg University</td>\n",
       "      <td>Marburg</td>\n",
       "      <td>Germany</td>\n",
       "      <td>1917-03-31</td>\n",
       "      <td>Marburg</td>\n",
       "      <td>Germany</td>\n",
       "    </tr>\n",
       "    <tr>\n",
       "      <th>3</th>\n",
       "      <td>1901</td>\n",
       "      <td>Peace</td>\n",
       "      <td>The Nobel Peace Prize 1901</td>\n",
       "      <td>NaN</td>\n",
       "      <td>1/2</td>\n",
       "      <td>462</td>\n",
       "      <td>Individual</td>\n",
       "      <td>Jean Henry Dunant</td>\n",
       "      <td>1828-05-08</td>\n",
       "      <td>Geneva</td>\n",
       "      <td>Switzerland</td>\n",
       "      <td>Male</td>\n",
       "      <td>NaN</td>\n",
       "      <td>NaN</td>\n",
       "      <td>NaN</td>\n",
       "      <td>1910-10-30</td>\n",
       "      <td>Heiden</td>\n",
       "      <td>Switzerland</td>\n",
       "    </tr>\n",
       "    <tr>\n",
       "      <th>4</th>\n",
       "      <td>1901</td>\n",
       "      <td>Peace</td>\n",
       "      <td>The Nobel Peace Prize 1901</td>\n",
       "      <td>NaN</td>\n",
       "      <td>1/2</td>\n",
       "      <td>463</td>\n",
       "      <td>Individual</td>\n",
       "      <td>Frédéric Passy</td>\n",
       "      <td>1822-05-20</td>\n",
       "      <td>Paris</td>\n",
       "      <td>France</td>\n",
       "      <td>Male</td>\n",
       "      <td>NaN</td>\n",
       "      <td>NaN</td>\n",
       "      <td>NaN</td>\n",
       "      <td>1912-06-12</td>\n",
       "      <td>Paris</td>\n",
       "      <td>France</td>\n",
       "    </tr>\n",
       "  </tbody>\n",
       "</table>\n",
       "</div>"
      ],
      "text/plain": [
       "   Year    Category                                           Prize  \\\n",
       "0  1901   Chemistry               The Nobel Prize in Chemistry 1901   \n",
       "1  1901  Literature              The Nobel Prize in Literature 1901   \n",
       "2  1901    Medicine  The Nobel Prize in Physiology or Medicine 1901   \n",
       "3  1901       Peace                      The Nobel Peace Prize 1901   \n",
       "4  1901       Peace                      The Nobel Peace Prize 1901   \n",
       "\n",
       "                                          Motivation Prize Share  Laureate ID  \\\n",
       "0  \"in recognition of the extraordinary services ...         1/1          160   \n",
       "1  \"in special recognition of his poetic composit...         1/1          569   \n",
       "2  \"for his work on serum therapy, especially its...         1/1          293   \n",
       "3                                                NaN         1/2          462   \n",
       "4                                                NaN         1/2          463   \n",
       "\n",
       "  Laureate Type                     Full Name  Birth Date         Birth City  \\\n",
       "0    Individual  Jacobus Henricus van 't Hoff  1852-08-30          Rotterdam   \n",
       "1    Individual               Sully Prudhomme  1839-03-16              Paris   \n",
       "2    Individual        Emil Adolf von Behring  1854-03-15  Hansdorf (Lawice)   \n",
       "3    Individual             Jean Henry Dunant  1828-05-08             Geneva   \n",
       "4    Individual                Frédéric Passy  1822-05-20              Paris   \n",
       "\n",
       "      Birth Country   Sex   Organization Name Organization City  \\\n",
       "0       Netherlands  Male   Berlin University            Berlin   \n",
       "1            France  Male                 NaN               NaN   \n",
       "2  Prussia (Poland)  Male  Marburg University           Marburg   \n",
       "3       Switzerland  Male                 NaN               NaN   \n",
       "4            France  Male                 NaN               NaN   \n",
       "\n",
       "  Organization Country  Death Date Death City Death Country  \n",
       "0              Germany  1911-03-01     Berlin       Germany  \n",
       "1                  NaN  1907-09-07   Châtenay        France  \n",
       "2              Germany  1917-03-31    Marburg       Germany  \n",
       "3                  NaN  1910-10-30     Heiden   Switzerland  \n",
       "4                  NaN  1912-06-12      Paris        France  "
      ]
     },
     "execution_count": 3,
     "metadata": {},
     "output_type": "execute_result"
    }
   ],
   "source": [
    "# Let's take a look at a few rows of data:\n",
    "df.head()"
   ]
  },
  {
   "cell_type": "code",
   "execution_count": 4,
   "metadata": {},
   "outputs": [],
   "source": [
    "# Change column names to eliminate typing errors (spaces in column names not recommneded):\n",
    "df.columns = ['Year', 'Category', 'Prize', 'Motivation', 'PrizeShare', 'LaureateID',\n",
    "       'LaureateType', 'FullName', 'BirthDate', 'BirthCity',\n",
    "       'BirthCountry', 'Sex', 'OrganizationName', 'OrganizationCity',\n",
    "       'OrganizationCountry', 'DeathDate', 'DeathCity', 'DeathCountry']"
   ]
  },
  {
   "cell_type": "code",
   "execution_count": 5,
   "metadata": {},
   "outputs": [
    {
     "data": {
      "text/html": [
       "<div>\n",
       "<style scoped>\n",
       "    .dataframe tbody tr th:only-of-type {\n",
       "        vertical-align: middle;\n",
       "    }\n",
       "\n",
       "    .dataframe tbody tr th {\n",
       "        vertical-align: top;\n",
       "    }\n",
       "\n",
       "    .dataframe thead th {\n",
       "        text-align: right;\n",
       "    }\n",
       "</style>\n",
       "<table border=\"1\" class=\"dataframe\">\n",
       "  <thead>\n",
       "    <tr style=\"text-align: right;\">\n",
       "      <th></th>\n",
       "      <th>Year</th>\n",
       "      <th>Category</th>\n",
       "      <th>Prize</th>\n",
       "      <th>Motivation</th>\n",
       "      <th>PrizeShare</th>\n",
       "      <th>LaureateID</th>\n",
       "      <th>LaureateType</th>\n",
       "      <th>FullName</th>\n",
       "      <th>BirthDate</th>\n",
       "      <th>BirthCity</th>\n",
       "      <th>BirthCountry</th>\n",
       "      <th>Sex</th>\n",
       "      <th>OrganizationName</th>\n",
       "      <th>OrganizationCity</th>\n",
       "      <th>OrganizationCountry</th>\n",
       "      <th>DeathDate</th>\n",
       "      <th>DeathCity</th>\n",
       "      <th>DeathCountry</th>\n",
       "    </tr>\n",
       "  </thead>\n",
       "  <tbody>\n",
       "    <tr>\n",
       "      <th>0</th>\n",
       "      <td>1901</td>\n",
       "      <td>Chemistry</td>\n",
       "      <td>The Nobel Prize in Chemistry 1901</td>\n",
       "      <td>\"in recognition of the extraordinary services ...</td>\n",
       "      <td>1/1</td>\n",
       "      <td>160</td>\n",
       "      <td>Individual</td>\n",
       "      <td>Jacobus Henricus van 't Hoff</td>\n",
       "      <td>1852-08-30</td>\n",
       "      <td>Rotterdam</td>\n",
       "      <td>Netherlands</td>\n",
       "      <td>Male</td>\n",
       "      <td>Berlin University</td>\n",
       "      <td>Berlin</td>\n",
       "      <td>Germany</td>\n",
       "      <td>1911-03-01</td>\n",
       "      <td>Berlin</td>\n",
       "      <td>Germany</td>\n",
       "    </tr>\n",
       "  </tbody>\n",
       "</table>\n",
       "</div>"
      ],
      "text/plain": [
       "   Year   Category                              Prize  \\\n",
       "0  1901  Chemistry  The Nobel Prize in Chemistry 1901   \n",
       "\n",
       "                                          Motivation PrizeShare  LaureateID  \\\n",
       "0  \"in recognition of the extraordinary services ...        1/1         160   \n",
       "\n",
       "  LaureateType                      FullName   BirthDate  BirthCity  \\\n",
       "0   Individual  Jacobus Henricus van 't Hoff  1852-08-30  Rotterdam   \n",
       "\n",
       "  BirthCountry   Sex   OrganizationName OrganizationCity OrganizationCountry  \\\n",
       "0  Netherlands  Male  Berlin University           Berlin             Germany   \n",
       "\n",
       "    DeathDate DeathCity DeathCountry  \n",
       "0  1911-03-01    Berlin      Germany  "
      ]
     },
     "execution_count": 5,
     "metadata": {},
     "output_type": "execute_result"
    }
   ],
   "source": [
    "# Looks good:\n",
    "df.head(1)"
   ]
  },
  {
   "cell_type": "code",
   "execution_count": 6,
   "metadata": {},
   "outputs": [
    {
     "name": "stdout",
     "output_type": "stream",
     "text": [
      "There are 969 rows in this dataset\n",
      "There are 18 columns\n"
     ]
    }
   ],
   "source": [
    "# check the number of rows and columns:\n",
    "print('There are' + \" \" + str((len(df))) + \" rows in this dataset\")\n",
    "print('There are' + \" \" +str(len(df.columns)) + \" columns\")"
   ]
  },
  {
   "cell_type": "code",
   "execution_count": 7,
   "metadata": {},
   "outputs": [
    {
     "name": "stdout",
     "output_type": "stream",
     "text": [
      "<class 'pandas.core.frame.DataFrame'>\n",
      "RangeIndex: 969 entries, 0 to 968\n",
      "Data columns (total 18 columns):\n",
      "Year                   969 non-null int64\n",
      "Category               969 non-null object\n",
      "Prize                  969 non-null object\n",
      "Motivation             881 non-null object\n",
      "PrizeShare             969 non-null object\n",
      "LaureateID             969 non-null int64\n",
      "LaureateType           969 non-null object\n",
      "FullName               969 non-null object\n",
      "BirthDate              940 non-null object\n",
      "BirthCity              941 non-null object\n",
      "BirthCountry           943 non-null object\n",
      "Sex                    943 non-null object\n",
      "OrganizationName       722 non-null object\n",
      "OrganizationCity       716 non-null object\n",
      "OrganizationCountry    716 non-null object\n",
      "DeathDate              617 non-null object\n",
      "DeathCity              599 non-null object\n",
      "DeathCountry           605 non-null object\n",
      "dtypes: int64(2), object(16)\n",
      "memory usage: 136.3+ KB\n"
     ]
    }
   ],
   "source": [
    "df.info()"
   ]
  },
  {
   "cell_type": "markdown",
   "metadata": {},
   "source": [
    "# Last columns have a lot of missing data\n",
    "Let's see what might be causing this. For example, 26 award recepients don't have their 'Sex' specified. Let's take a closer look at that column and see why that might be."
   ]
  },
  {
   "cell_type": "code",
   "execution_count": 8,
   "metadata": {},
   "outputs": [
    {
     "data": {
      "text/html": [
       "<div>\n",
       "<style scoped>\n",
       "    .dataframe tbody tr th:only-of-type {\n",
       "        vertical-align: middle;\n",
       "    }\n",
       "\n",
       "    .dataframe tbody tr th {\n",
       "        vertical-align: top;\n",
       "    }\n",
       "\n",
       "    .dataframe thead th {\n",
       "        text-align: right;\n",
       "    }\n",
       "</style>\n",
       "<table border=\"1\" class=\"dataframe\">\n",
       "  <thead>\n",
       "    <tr style=\"text-align: right;\">\n",
       "      <th></th>\n",
       "      <th>Year</th>\n",
       "      <th>Category</th>\n",
       "      <th>Prize</th>\n",
       "      <th>Motivation</th>\n",
       "      <th>PrizeShare</th>\n",
       "      <th>LaureateID</th>\n",
       "      <th>LaureateType</th>\n",
       "      <th>FullName</th>\n",
       "      <th>BirthDate</th>\n",
       "      <th>BirthCity</th>\n",
       "      <th>BirthCountry</th>\n",
       "      <th>Sex</th>\n",
       "      <th>OrganizationName</th>\n",
       "      <th>OrganizationCity</th>\n",
       "      <th>OrganizationCountry</th>\n",
       "      <th>DeathDate</th>\n",
       "      <th>DeathCity</th>\n",
       "      <th>DeathCountry</th>\n",
       "    </tr>\n",
       "  </thead>\n",
       "  <tbody>\n",
       "    <tr>\n",
       "      <th>24</th>\n",
       "      <td>1904</td>\n",
       "      <td>Peace</td>\n",
       "      <td>The Nobel Peace Prize 1904</td>\n",
       "      <td>NaN</td>\n",
       "      <td>1/1</td>\n",
       "      <td>467</td>\n",
       "      <td>Organization</td>\n",
       "      <td>Institut de droit international (Institute of ...</td>\n",
       "      <td>NaN</td>\n",
       "      <td>NaN</td>\n",
       "      <td>NaN</td>\n",
       "      <td>NaN</td>\n",
       "      <td>NaN</td>\n",
       "      <td>NaN</td>\n",
       "      <td>NaN</td>\n",
       "      <td>NaN</td>\n",
       "      <td>NaN</td>\n",
       "      <td>NaN</td>\n",
       "    </tr>\n",
       "    <tr>\n",
       "      <th>61</th>\n",
       "      <td>1910</td>\n",
       "      <td>Peace</td>\n",
       "      <td>The Nobel Peace Prize 1910</td>\n",
       "      <td>NaN</td>\n",
       "      <td>1/1</td>\n",
       "      <td>477</td>\n",
       "      <td>Organization</td>\n",
       "      <td>Bureau international permanent de la Paix (Per...</td>\n",
       "      <td>NaN</td>\n",
       "      <td>NaN</td>\n",
       "      <td>NaN</td>\n",
       "      <td>NaN</td>\n",
       "      <td>NaN</td>\n",
       "      <td>NaN</td>\n",
       "      <td>NaN</td>\n",
       "      <td>NaN</td>\n",
       "      <td>NaN</td>\n",
       "      <td>NaN</td>\n",
       "    </tr>\n",
       "    <tr>\n",
       "      <th>90</th>\n",
       "      <td>1917</td>\n",
       "      <td>Peace</td>\n",
       "      <td>The Nobel Peace Prize 1917</td>\n",
       "      <td>NaN</td>\n",
       "      <td>1/1</td>\n",
       "      <td>482</td>\n",
       "      <td>Organization</td>\n",
       "      <td>Comité international de la Croix Rouge (Intern...</td>\n",
       "      <td>NaN</td>\n",
       "      <td>NaN</td>\n",
       "      <td>NaN</td>\n",
       "      <td>NaN</td>\n",
       "      <td>NaN</td>\n",
       "      <td>NaN</td>\n",
       "      <td>NaN</td>\n",
       "      <td>NaN</td>\n",
       "      <td>NaN</td>\n",
       "      <td>NaN</td>\n",
       "    </tr>\n",
       "    <tr>\n",
       "      <th>206</th>\n",
       "      <td>1938</td>\n",
       "      <td>Peace</td>\n",
       "      <td>The Nobel Peace Prize 1938</td>\n",
       "      <td>NaN</td>\n",
       "      <td>1/1</td>\n",
       "      <td>503</td>\n",
       "      <td>Organization</td>\n",
       "      <td>Office international Nansen pour les Réfugiés ...</td>\n",
       "      <td>NaN</td>\n",
       "      <td>NaN</td>\n",
       "      <td>NaN</td>\n",
       "      <td>NaN</td>\n",
       "      <td>NaN</td>\n",
       "      <td>NaN</td>\n",
       "      <td>NaN</td>\n",
       "      <td>NaN</td>\n",
       "      <td>NaN</td>\n",
       "      <td>NaN</td>\n",
       "    </tr>\n",
       "    <tr>\n",
       "      <th>222</th>\n",
       "      <td>1944</td>\n",
       "      <td>Peace</td>\n",
       "      <td>The Nobel Peace Prize 1944</td>\n",
       "      <td>NaN</td>\n",
       "      <td>1/1</td>\n",
       "      <td>482</td>\n",
       "      <td>Organization</td>\n",
       "      <td>Comité international de la Croix Rouge (Intern...</td>\n",
       "      <td>NaN</td>\n",
       "      <td>NaN</td>\n",
       "      <td>NaN</td>\n",
       "      <td>NaN</td>\n",
       "      <td>NaN</td>\n",
       "      <td>NaN</td>\n",
       "      <td>NaN</td>\n",
       "      <td>NaN</td>\n",
       "      <td>NaN</td>\n",
       "      <td>NaN</td>\n",
       "    </tr>\n",
       "  </tbody>\n",
       "</table>\n",
       "</div>"
      ],
      "text/plain": [
       "     Year Category                       Prize Motivation PrizeShare  \\\n",
       "24   1904    Peace  The Nobel Peace Prize 1904        NaN        1/1   \n",
       "61   1910    Peace  The Nobel Peace Prize 1910        NaN        1/1   \n",
       "90   1917    Peace  The Nobel Peace Prize 1917        NaN        1/1   \n",
       "206  1938    Peace  The Nobel Peace Prize 1938        NaN        1/1   \n",
       "222  1944    Peace  The Nobel Peace Prize 1944        NaN        1/1   \n",
       "\n",
       "     LaureateID  LaureateType  \\\n",
       "24          467  Organization   \n",
       "61          477  Organization   \n",
       "90          482  Organization   \n",
       "206         503  Organization   \n",
       "222         482  Organization   \n",
       "\n",
       "                                              FullName BirthDate BirthCity  \\\n",
       "24   Institut de droit international (Institute of ...       NaN       NaN   \n",
       "61   Bureau international permanent de la Paix (Per...       NaN       NaN   \n",
       "90   Comité international de la Croix Rouge (Intern...       NaN       NaN   \n",
       "206  Office international Nansen pour les Réfugiés ...       NaN       NaN   \n",
       "222  Comité international de la Croix Rouge (Intern...       NaN       NaN   \n",
       "\n",
       "    BirthCountry  Sex OrganizationName OrganizationCity OrganizationCountry  \\\n",
       "24           NaN  NaN              NaN              NaN                 NaN   \n",
       "61           NaN  NaN              NaN              NaN                 NaN   \n",
       "90           NaN  NaN              NaN              NaN                 NaN   \n",
       "206          NaN  NaN              NaN              NaN                 NaN   \n",
       "222          NaN  NaN              NaN              NaN                 NaN   \n",
       "\n",
       "    DeathDate DeathCity DeathCountry  \n",
       "24        NaN       NaN          NaN  \n",
       "61        NaN       NaN          NaN  \n",
       "90        NaN       NaN          NaN  \n",
       "206       NaN       NaN          NaN  \n",
       "222       NaN       NaN          NaN  "
      ]
     },
     "execution_count": 8,
     "metadata": {},
     "output_type": "execute_result"
    }
   ],
   "source": [
    "df[df.Sex.isna()].head()\n",
    "# The missing 'Sex' data is due to Nobels being awarded to institutions. "
   ]
  },
  {
   "cell_type": "markdown",
   "metadata": {},
   "source": [
    "# 'DeathDate', 'DeathCity', 'DeathCountry' \n",
    "have missing data probably because a lot of Nobel winners are still alive. Thank god, they have time to enjoy their awards. "
   ]
  },
  {
   "cell_type": "code",
   "execution_count": 9,
   "metadata": {},
   "outputs": [
    {
     "name": "stdout",
     "output_type": "stream",
     "text": [
      "Number of Nobel Prizes awarded:969\n"
     ]
    }
   ],
   "source": [
    "# How many prizes were awarded?\n",
    "print(\"Number of Nobel Prizes awarded:\" +str(len(df)))"
   ]
  },
  {
   "cell_type": "code",
   "execution_count": 10,
   "metadata": {},
   "outputs": [
    {
     "data": {
      "text/html": [
       "<div>\n",
       "<style scoped>\n",
       "    .dataframe tbody tr th:only-of-type {\n",
       "        vertical-align: middle;\n",
       "    }\n",
       "\n",
       "    .dataframe tbody tr th {\n",
       "        vertical-align: top;\n",
       "    }\n",
       "\n",
       "    .dataframe thead th {\n",
       "        text-align: right;\n",
       "    }\n",
       "</style>\n",
       "<table border=\"1\" class=\"dataframe\">\n",
       "  <thead>\n",
       "    <tr style=\"text-align: right;\">\n",
       "      <th></th>\n",
       "      <th>Year</th>\n",
       "      <th>Category</th>\n",
       "      <th>Prize</th>\n",
       "      <th>Motivation</th>\n",
       "      <th>PrizeShare</th>\n",
       "      <th>LaureateID</th>\n",
       "      <th>LaureateType</th>\n",
       "      <th>FullName</th>\n",
       "      <th>BirthDate</th>\n",
       "      <th>BirthCity</th>\n",
       "      <th>BirthCountry</th>\n",
       "      <th>Sex</th>\n",
       "      <th>OrganizationName</th>\n",
       "      <th>OrganizationCity</th>\n",
       "      <th>OrganizationCountry</th>\n",
       "      <th>DeathDate</th>\n",
       "      <th>DeathCity</th>\n",
       "      <th>DeathCountry</th>\n",
       "    </tr>\n",
       "  </thead>\n",
       "  <tbody>\n",
       "    <tr>\n",
       "      <th>0</th>\n",
       "      <td>1901</td>\n",
       "      <td>Chemistry</td>\n",
       "      <td>The Nobel Prize in Chemistry 1901</td>\n",
       "      <td>\"in recognition of the extraordinary services ...</td>\n",
       "      <td>1/1</td>\n",
       "      <td>160</td>\n",
       "      <td>Individual</td>\n",
       "      <td>Jacobus Henricus van 't Hoff</td>\n",
       "      <td>1852-08-30</td>\n",
       "      <td>Rotterdam</td>\n",
       "      <td>Netherlands</td>\n",
       "      <td>Male</td>\n",
       "      <td>Berlin University</td>\n",
       "      <td>Berlin</td>\n",
       "      <td>Germany</td>\n",
       "      <td>1911-03-01</td>\n",
       "      <td>Berlin</td>\n",
       "      <td>Germany</td>\n",
       "    </tr>\n",
       "  </tbody>\n",
       "</table>\n",
       "</div>"
      ],
      "text/plain": [
       "   Year   Category                              Prize  \\\n",
       "0  1901  Chemistry  The Nobel Prize in Chemistry 1901   \n",
       "\n",
       "                                          Motivation PrizeShare  LaureateID  \\\n",
       "0  \"in recognition of the extraordinary services ...        1/1         160   \n",
       "\n",
       "  LaureateType                      FullName   BirthDate  BirthCity  \\\n",
       "0   Individual  Jacobus Henricus van 't Hoff  1852-08-30  Rotterdam   \n",
       "\n",
       "  BirthCountry   Sex   OrganizationName OrganizationCity OrganizationCountry  \\\n",
       "0  Netherlands  Male  Berlin University           Berlin             Germany   \n",
       "\n",
       "    DeathDate DeathCity DeathCountry  \n",
       "0  1911-03-01    Berlin      Germany  "
      ]
     },
     "metadata": {},
     "output_type": "display_data"
    },
    {
     "data": {
      "text/html": [
       "<div>\n",
       "<style scoped>\n",
       "    .dataframe tbody tr th:only-of-type {\n",
       "        vertical-align: middle;\n",
       "    }\n",
       "\n",
       "    .dataframe tbody tr th {\n",
       "        vertical-align: top;\n",
       "    }\n",
       "\n",
       "    .dataframe thead th {\n",
       "        text-align: right;\n",
       "    }\n",
       "</style>\n",
       "<table border=\"1\" class=\"dataframe\">\n",
       "  <thead>\n",
       "    <tr style=\"text-align: right;\">\n",
       "      <th></th>\n",
       "      <th>Year</th>\n",
       "      <th>Category</th>\n",
       "      <th>Prize</th>\n",
       "      <th>Motivation</th>\n",
       "      <th>PrizeShare</th>\n",
       "      <th>LaureateID</th>\n",
       "      <th>LaureateType</th>\n",
       "      <th>FullName</th>\n",
       "      <th>BirthDate</th>\n",
       "      <th>BirthCity</th>\n",
       "      <th>BirthCountry</th>\n",
       "      <th>Sex</th>\n",
       "      <th>OrganizationName</th>\n",
       "      <th>OrganizationCity</th>\n",
       "      <th>OrganizationCountry</th>\n",
       "      <th>DeathDate</th>\n",
       "      <th>DeathCity</th>\n",
       "      <th>DeathCountry</th>\n",
       "    </tr>\n",
       "  </thead>\n",
       "  <tbody>\n",
       "    <tr>\n",
       "      <th>958</th>\n",
       "      <td>2016</td>\n",
       "      <td>Chemistry</td>\n",
       "      <td>The Nobel Prize in Chemistry 2016</td>\n",
       "      <td>\"for the design and synthesis of molecular mac...</td>\n",
       "      <td>1/3</td>\n",
       "      <td>931</td>\n",
       "      <td>Individual</td>\n",
       "      <td>Jean-Pierre Sauvage</td>\n",
       "      <td>1944-10-21</td>\n",
       "      <td>Paris</td>\n",
       "      <td>France</td>\n",
       "      <td>Male</td>\n",
       "      <td>University of Strasbourg</td>\n",
       "      <td>Strasbourg</td>\n",
       "      <td>France</td>\n",
       "      <td>NaN</td>\n",
       "      <td>NaN</td>\n",
       "      <td>NaN</td>\n",
       "    </tr>\n",
       "  </tbody>\n",
       "</table>\n",
       "</div>"
      ],
      "text/plain": [
       "     Year   Category                              Prize  \\\n",
       "958  2016  Chemistry  The Nobel Prize in Chemistry 2016   \n",
       "\n",
       "                                            Motivation PrizeShare  LaureateID  \\\n",
       "958  \"for the design and synthesis of molecular mac...        1/3         931   \n",
       "\n",
       "    LaureateType             FullName   BirthDate BirthCity BirthCountry  \\\n",
       "958   Individual  Jean-Pierre Sauvage  1944-10-21     Paris       France   \n",
       "\n",
       "      Sex          OrganizationName OrganizationCity OrganizationCountry  \\\n",
       "958  Male  University of Strasbourg       Strasbourg              France   \n",
       "\n",
       "    DeathDate DeathCity DeathCountry  \n",
       "958       NaN       NaN          NaN  "
      ]
     },
     "execution_count": 10,
     "metadata": {},
     "output_type": "execute_result"
    }
   ],
   "source": [
    "# Let's look at the first and last award in the dataset:\n",
    "display(df.nsmallest(1, 'Year'))\n",
    "df.nlargest(1, 'Year')"
   ]
  },
  {
   "cell_type": "markdown",
   "metadata": {},
   "source": [
    "# Gender Analysis:"
   ]
  },
  {
   "cell_type": "code",
   "execution_count": 11,
   "metadata": {},
   "outputs": [
    {
     "data": {
      "text/plain": [
       "Male      893\n",
       "Female     50\n",
       "Name: Sex, dtype: int64"
      ]
     },
     "execution_count": 11,
     "metadata": {},
     "output_type": "execute_result"
    }
   ],
   "source": [
    "# Number of awards for each gender:\n",
    "gender = df['Sex'].value_counts()\n",
    "gender"
   ]
  },
  {
   "cell_type": "code",
   "execution_count": 12,
   "metadata": {},
   "outputs": [
    {
     "data": {
      "text/plain": [
       "Text(0.5, 1.0, 'Nobel Prizes by Gender')"
      ]
     },
     "execution_count": 12,
     "metadata": {},
     "output_type": "execute_result"
    },
    {
     "data": {
      "image/png": "[encoded data removed]",
      "text/plain": [
       "<Figure size 432x288 with 1 Axes>"
      ]
     },
     "metadata": {
      "needs_background": "light"
     },
     "output_type": "display_data"
    }
   ],
   "source": [
    "# Gender gap visualized:\n",
    "sns.barplot(x=gender.index, y=gender.values)\n",
    "plt.title('Nobel Prizes by Gender')"
   ]
  },
  {
   "cell_type": "code",
   "execution_count": 13,
   "metadata": {},
   "outputs": [
    {
     "data": {
      "text/html": [
       "<div>\n",
       "<style scoped>\n",
       "    .dataframe tbody tr th:only-of-type {\n",
       "        vertical-align: middle;\n",
       "    }\n",
       "\n",
       "    .dataframe tbody tr th {\n",
       "        vertical-align: top;\n",
       "    }\n",
       "\n",
       "    .dataframe thead th {\n",
       "        text-align: right;\n",
       "    }\n",
       "</style>\n",
       "<table border=\"1\" class=\"dataframe\">\n",
       "  <thead>\n",
       "    <tr style=\"text-align: right;\">\n",
       "      <th></th>\n",
       "      <th>Year</th>\n",
       "      <th>Category</th>\n",
       "      <th>Prize</th>\n",
       "      <th>Motivation</th>\n",
       "      <th>PrizeShare</th>\n",
       "      <th>LaureateID</th>\n",
       "      <th>LaureateType</th>\n",
       "      <th>FullName</th>\n",
       "      <th>BirthDate</th>\n",
       "      <th>BirthCity</th>\n",
       "      <th>BirthCountry</th>\n",
       "      <th>Sex</th>\n",
       "      <th>OrganizationName</th>\n",
       "      <th>OrganizationCity</th>\n",
       "      <th>OrganizationCountry</th>\n",
       "      <th>DeathDate</th>\n",
       "      <th>DeathCity</th>\n",
       "      <th>DeathCountry</th>\n",
       "    </tr>\n",
       "  </thead>\n",
       "  <tbody>\n",
       "    <tr>\n",
       "      <th>19</th>\n",
       "      <td>1903</td>\n",
       "      <td>Physics</td>\n",
       "      <td>The Nobel Prize in Physics 1903</td>\n",
       "      <td>\"in recognition of the extraordinary services ...</td>\n",
       "      <td>1/4</td>\n",
       "      <td>6</td>\n",
       "      <td>Individual</td>\n",
       "      <td>Marie Curie, née Sklodowska</td>\n",
       "      <td>1867-11-07</td>\n",
       "      <td>Warsaw</td>\n",
       "      <td>Russian Empire (Poland)</td>\n",
       "      <td>Female</td>\n",
       "      <td>NaN</td>\n",
       "      <td>NaN</td>\n",
       "      <td>NaN</td>\n",
       "      <td>1934-07-04</td>\n",
       "      <td>Sallanches</td>\n",
       "      <td>France</td>\n",
       "    </tr>\n",
       "  </tbody>\n",
       "</table>\n",
       "</div>"
      ],
      "text/plain": [
       "    Year Category                            Prize  \\\n",
       "19  1903  Physics  The Nobel Prize in Physics 1903   \n",
       "\n",
       "                                           Motivation PrizeShare  LaureateID  \\\n",
       "19  \"in recognition of the extraordinary services ...        1/4           6   \n",
       "\n",
       "   LaureateType                     FullName   BirthDate BirthCity  \\\n",
       "19   Individual  Marie Curie, née Sklodowska  1867-11-07    Warsaw   \n",
       "\n",
       "               BirthCountry     Sex OrganizationName OrganizationCity  \\\n",
       "19  Russian Empire (Poland)  Female              NaN              NaN   \n",
       "\n",
       "   OrganizationCountry   DeathDate   DeathCity DeathCountry  \n",
       "19                 NaN  1934-07-04  Sallanches       France  "
      ]
     },
     "execution_count": 13,
     "metadata": {},
     "output_type": "execute_result"
    }
   ],
   "source": [
    "# Who was the first woman to win a Nobel Prize\n",
    "first_female_winner = df[df['Sex']=='Female']\n",
    "first_female_winner.nsmallest(1,'Year')"
   ]
  },
  {
   "cell_type": "markdown",
   "metadata": {},
   "source": [
    "# Nationality Analysis:"
   ]
  },
  {
   "cell_type": "code",
   "execution_count": 14,
   "metadata": {},
   "outputs": [
    {
     "data": {
      "text/plain": [
       "121"
      ]
     },
     "execution_count": 14,
     "metadata": {},
     "output_type": "execute_result"
    }
   ],
   "source": [
    "# Let's see people from how many countries have won a Nobel Prize:\n",
    "len(df['BirthCountry'].value_counts())"
   ]
  },
  {
   "cell_type": "markdown",
   "metadata": {},
   "source": [
    "People from 121 countries have won a Nobel Prize. That's a lot more than I was expecting. Let's dig deeper."
   ]
  },
  {
   "cell_type": "code",
   "execution_count": 15,
   "metadata": {
    "scrolled": true
   },
   "outputs": [
    {
     "data": {
      "text/plain": [
       "United States of America    276\n",
       "United Kingdom               88\n",
       "Germany                      70\n",
       "France                       53\n",
       "Sweden                       30\n",
       "Japan                        29\n",
       "Russia                       20\n",
       "Netherlands                  19\n",
       "Canada                       18\n",
       "Italy                        18\n",
       "Name: BirthCountry, dtype: int64"
      ]
     },
     "execution_count": 15,
     "metadata": {},
     "output_type": "execute_result"
    }
   ],
   "source": [
    "# Top ten countries with most awards:\n",
    "countries = df['BirthCountry'].value_counts().head(10)\n",
    "countries"
   ]
  },
  {
   "cell_type": "code",
   "execution_count": 16,
   "metadata": {},
   "outputs": [
    {
     "data": {
      "image/png": "[encoded data removed]",
      "text/plain": [
       "<Figure size 432x288 with 1 Axes>"
      ]
     },
     "metadata": {},
     "output_type": "display_data"
    }
   ],
   "source": [
    "# Create a barchart of top ten countries:\n",
    "sns.set_style('darkgrid')\n",
    "sns.barplot(x=countries.index, y= countries.values)\n",
    "plt.xticks(rotation = 90)\n",
    "plt.title(\"Nobel Prizes by Country\")\n",
    "plt.ylabel('Nuber of Nobel Prizes');"
   ]
  },
  {
   "cell_type": "markdown",
   "metadata": {},
   "source": [
    "United States citizens have won more nobels than next 5 countries combined. "
   ]
  },
  {
   "cell_type": "code",
   "execution_count": 17,
   "metadata": {},
   "outputs": [
    {
     "name": "stdout",
     "output_type": "stream",
     "text": [
      "US born people have won 28.48% of the Nobel Prizes.\n"
     ]
    }
   ],
   "source": [
    "# Let's see percentage point of wins: \n",
    "print(\"US born people have won \" + str(round(276/len(df) * 100,2)) + \"% of the Nobel Prizes.\")"
   ]
  },
  {
   "cell_type": "markdown",
   "metadata": {},
   "source": [
    "# Looking at the raw data we see that none of the first winners of Nobel Prize were US citizens. \n",
    "When did US nationals start to win most of them? "
   ]
  },
  {
   "cell_type": "code",
   "execution_count": 18,
   "metadata": {},
   "outputs": [
    {
     "data": {
      "text/html": [
       "<div>\n",
       "<style scoped>\n",
       "    .dataframe tbody tr th:only-of-type {\n",
       "        vertical-align: middle;\n",
       "    }\n",
       "\n",
       "    .dataframe tbody tr th {\n",
       "        vertical-align: top;\n",
       "    }\n",
       "\n",
       "    .dataframe thead th {\n",
       "        text-align: right;\n",
       "    }\n",
       "</style>\n",
       "<table border=\"1\" class=\"dataframe\">\n",
       "  <thead>\n",
       "    <tr style=\"text-align: right;\">\n",
       "      <th></th>\n",
       "      <th>Year</th>\n",
       "      <th>Category</th>\n",
       "      <th>Prize</th>\n",
       "      <th>Motivation</th>\n",
       "      <th>PrizeShare</th>\n",
       "      <th>LaureateID</th>\n",
       "      <th>LaureateType</th>\n",
       "      <th>FullName</th>\n",
       "      <th>BirthDate</th>\n",
       "      <th>BirthCity</th>\n",
       "      <th>BirthCountry</th>\n",
       "      <th>Sex</th>\n",
       "      <th>OrganizationName</th>\n",
       "      <th>OrganizationCity</th>\n",
       "      <th>OrganizationCountry</th>\n",
       "      <th>DeathDate</th>\n",
       "      <th>DeathCity</th>\n",
       "      <th>DeathCountry</th>\n",
       "    </tr>\n",
       "  </thead>\n",
       "  <tbody>\n",
       "    <tr>\n",
       "      <th>0</th>\n",
       "      <td>1901</td>\n",
       "      <td>Chemistry</td>\n",
       "      <td>The Nobel Prize in Chemistry 1901</td>\n",
       "      <td>\"in recognition of the extraordinary services ...</td>\n",
       "      <td>1/1</td>\n",
       "      <td>160</td>\n",
       "      <td>Individual</td>\n",
       "      <td>Jacobus Henricus van 't Hoff</td>\n",
       "      <td>1852-08-30</td>\n",
       "      <td>Rotterdam</td>\n",
       "      <td>Netherlands</td>\n",
       "      <td>Male</td>\n",
       "      <td>Berlin University</td>\n",
       "      <td>Berlin</td>\n",
       "      <td>Germany</td>\n",
       "      <td>1911-03-01</td>\n",
       "      <td>Berlin</td>\n",
       "      <td>Germany</td>\n",
       "    </tr>\n",
       "    <tr>\n",
       "      <th>1</th>\n",
       "      <td>1901</td>\n",
       "      <td>Literature</td>\n",
       "      <td>The Nobel Prize in Literature 1901</td>\n",
       "      <td>\"in special recognition of his poetic composit...</td>\n",
       "      <td>1/1</td>\n",
       "      <td>569</td>\n",
       "      <td>Individual</td>\n",
       "      <td>Sully Prudhomme</td>\n",
       "      <td>1839-03-16</td>\n",
       "      <td>Paris</td>\n",
       "      <td>France</td>\n",
       "      <td>Male</td>\n",
       "      <td>NaN</td>\n",
       "      <td>NaN</td>\n",
       "      <td>NaN</td>\n",
       "      <td>1907-09-07</td>\n",
       "      <td>Châtenay</td>\n",
       "      <td>France</td>\n",
       "    </tr>\n",
       "    <tr>\n",
       "      <th>2</th>\n",
       "      <td>1901</td>\n",
       "      <td>Medicine</td>\n",
       "      <td>The Nobel Prize in Physiology or Medicine 1901</td>\n",
       "      <td>\"for his work on serum therapy, especially its...</td>\n",
       "      <td>1/1</td>\n",
       "      <td>293</td>\n",
       "      <td>Individual</td>\n",
       "      <td>Emil Adolf von Behring</td>\n",
       "      <td>1854-03-15</td>\n",
       "      <td>Hansdorf (Lawice)</td>\n",
       "      <td>Prussia (Poland)</td>\n",
       "      <td>Male</td>\n",
       "      <td>Marburg University</td>\n",
       "      <td>Marburg</td>\n",
       "      <td>Germany</td>\n",
       "      <td>1917-03-31</td>\n",
       "      <td>Marburg</td>\n",
       "      <td>Germany</td>\n",
       "    </tr>\n",
       "    <tr>\n",
       "      <th>3</th>\n",
       "      <td>1901</td>\n",
       "      <td>Peace</td>\n",
       "      <td>The Nobel Peace Prize 1901</td>\n",
       "      <td>NaN</td>\n",
       "      <td>1/2</td>\n",
       "      <td>462</td>\n",
       "      <td>Individual</td>\n",
       "      <td>Jean Henry Dunant</td>\n",
       "      <td>1828-05-08</td>\n",
       "      <td>Geneva</td>\n",
       "      <td>Switzerland</td>\n",
       "      <td>Male</td>\n",
       "      <td>NaN</td>\n",
       "      <td>NaN</td>\n",
       "      <td>NaN</td>\n",
       "      <td>1910-10-30</td>\n",
       "      <td>Heiden</td>\n",
       "      <td>Switzerland</td>\n",
       "    </tr>\n",
       "    <tr>\n",
       "      <th>4</th>\n",
       "      <td>1901</td>\n",
       "      <td>Peace</td>\n",
       "      <td>The Nobel Peace Prize 1901</td>\n",
       "      <td>NaN</td>\n",
       "      <td>1/2</td>\n",
       "      <td>463</td>\n",
       "      <td>Individual</td>\n",
       "      <td>Frédéric Passy</td>\n",
       "      <td>1822-05-20</td>\n",
       "      <td>Paris</td>\n",
       "      <td>France</td>\n",
       "      <td>Male</td>\n",
       "      <td>NaN</td>\n",
       "      <td>NaN</td>\n",
       "      <td>NaN</td>\n",
       "      <td>1912-06-12</td>\n",
       "      <td>Paris</td>\n",
       "      <td>France</td>\n",
       "    </tr>\n",
       "  </tbody>\n",
       "</table>\n",
       "</div>"
      ],
      "text/plain": [
       "   Year    Category                                           Prize  \\\n",
       "0  1901   Chemistry               The Nobel Prize in Chemistry 1901   \n",
       "1  1901  Literature              The Nobel Prize in Literature 1901   \n",
       "2  1901    Medicine  The Nobel Prize in Physiology or Medicine 1901   \n",
       "3  1901       Peace                      The Nobel Peace Prize 1901   \n",
       "4  1901       Peace                      The Nobel Peace Prize 1901   \n",
       "\n",
       "                                          Motivation PrizeShare  LaureateID  \\\n",
       "0  \"in recognition of the extraordinary services ...        1/1         160   \n",
       "1  \"in special recognition of his poetic composit...        1/1         569   \n",
       "2  \"for his work on serum therapy, especially its...        1/1         293   \n",
       "3                                                NaN        1/2         462   \n",
       "4                                                NaN        1/2         463   \n",
       "\n",
       "  LaureateType                      FullName   BirthDate          BirthCity  \\\n",
       "0   Individual  Jacobus Henricus van 't Hoff  1852-08-30          Rotterdam   \n",
       "1   Individual               Sully Prudhomme  1839-03-16              Paris   \n",
       "2   Individual        Emil Adolf von Behring  1854-03-15  Hansdorf (Lawice)   \n",
       "3   Individual             Jean Henry Dunant  1828-05-08             Geneva   \n",
       "4   Individual                Frédéric Passy  1822-05-20              Paris   \n",
       "\n",
       "       BirthCountry   Sex    OrganizationName OrganizationCity  \\\n",
       "0       Netherlands  Male   Berlin University           Berlin   \n",
       "1            France  Male                 NaN              NaN   \n",
       "2  Prussia (Poland)  Male  Marburg University          Marburg   \n",
       "3       Switzerland  Male                 NaN              NaN   \n",
       "4            France  Male                 NaN              NaN   \n",
       "\n",
       "  OrganizationCountry   DeathDate DeathCity DeathCountry  \n",
       "0             Germany  1911-03-01    Berlin      Germany  \n",
       "1                 NaN  1907-09-07  Châtenay       France  \n",
       "2             Germany  1917-03-31   Marburg      Germany  \n",
       "3                 NaN  1910-10-30    Heiden  Switzerland  \n",
       "4                 NaN  1912-06-12     Paris       France  "
      ]
     },
     "execution_count": 18,
     "metadata": {},
     "output_type": "execute_result"
    }
   ],
   "source": [
    "df.head(5)"
   ]
  },
  {
   "cell_type": "code",
   "execution_count": 19,
   "metadata": {},
   "outputs": [
    {
     "data": {
      "text/html": [
       "<div>\n",
       "<style scoped>\n",
       "    .dataframe tbody tr th:only-of-type {\n",
       "        vertical-align: middle;\n",
       "    }\n",
       "\n",
       "    .dataframe tbody tr th {\n",
       "        vertical-align: top;\n",
       "    }\n",
       "\n",
       "    .dataframe thead th {\n",
       "        text-align: right;\n",
       "    }\n",
       "</style>\n",
       "<table border=\"1\" class=\"dataframe\">\n",
       "  <thead>\n",
       "    <tr style=\"text-align: right;\">\n",
       "      <th></th>\n",
       "      <th>Decade</th>\n",
       "      <th>USWinners</th>\n",
       "    </tr>\n",
       "  </thead>\n",
       "  <tbody>\n",
       "    <tr>\n",
       "      <th>0</th>\n",
       "      <td>1900</td>\n",
       "      <td>0.017241</td>\n",
       "    </tr>\n",
       "    <tr>\n",
       "      <th>1</th>\n",
       "      <td>1910</td>\n",
       "      <td>0.075000</td>\n",
       "    </tr>\n",
       "    <tr>\n",
       "      <th>2</th>\n",
       "      <td>1920</td>\n",
       "      <td>0.074074</td>\n",
       "    </tr>\n",
       "    <tr>\n",
       "      <th>3</th>\n",
       "      <td>1930</td>\n",
       "      <td>0.241935</td>\n",
       "    </tr>\n",
       "    <tr>\n",
       "      <th>4</th>\n",
       "      <td>1940</td>\n",
       "      <td>0.288889</td>\n",
       "    </tr>\n",
       "    <tr>\n",
       "      <th>5</th>\n",
       "      <td>1950</td>\n",
       "      <td>0.278481</td>\n",
       "    </tr>\n",
       "    <tr>\n",
       "      <th>6</th>\n",
       "      <td>1960</td>\n",
       "      <td>0.262500</td>\n",
       "    </tr>\n",
       "    <tr>\n",
       "      <th>7</th>\n",
       "      <td>1970</td>\n",
       "      <td>0.308411</td>\n",
       "    </tr>\n",
       "    <tr>\n",
       "      <th>8</th>\n",
       "      <td>1980</td>\n",
       "      <td>0.313131</td>\n",
       "    </tr>\n",
       "    <tr>\n",
       "      <th>9</th>\n",
       "      <td>1990</td>\n",
       "      <td>0.392523</td>\n",
       "    </tr>\n",
       "    <tr>\n",
       "      <th>10</th>\n",
       "      <td>2000</td>\n",
       "      <td>0.414286</td>\n",
       "    </tr>\n",
       "    <tr>\n",
       "      <th>11</th>\n",
       "      <td>2010</td>\n",
       "      <td>0.336735</td>\n",
       "    </tr>\n",
       "  </tbody>\n",
       "</table>\n",
       "</div>"
      ],
      "text/plain": [
       "    Decade  USWinners\n",
       "0     1900   0.017241\n",
       "1     1910   0.075000\n",
       "2     1920   0.074074\n",
       "3     1930   0.241935\n",
       "4     1940   0.288889\n",
       "5     1950   0.278481\n",
       "6     1960   0.262500\n",
       "7     1970   0.308411\n",
       "8     1980   0.313131\n",
       "9     1990   0.392523\n",
       "10    2000   0.414286\n",
       "11    2010   0.336735"
      ]
     },
     "execution_count": 19,
     "metadata": {},
     "output_type": "execute_result"
    }
   ],
   "source": [
    "# Calculate the percent of USA winners for each decade\n",
    "df['USWinners'] = df['BirthCountry']=='United States of America'\n",
    "df['Decade'] = (np.floor(df['Year']/10)*10).astype(int)\n",
    "Percent_US_winners = df.groupby('Decade', as_index=False)['USWinners'].mean()\n",
    "\n",
    "# Percent of US_winner\n",
    "Percent_US_winners"
   ]
  },
  {
   "cell_type": "code",
   "execution_count": 20,
   "metadata": {},
   "outputs": [
    {
     "name": "stderr",
     "output_type": "stream",
     "text": [
      "/Users/akurt/anaconda3/lib/python3.7/site-packages/scipy/stats/stats.py:1713: FutureWarning: Using a non-tuple sequence for multidimensional indexing is deprecated; use `arr[tuple(seq)]` instead of `arr[seq]`. In the future this will be interpreted as an array index, `arr[np.array(seq)]`, which will result either in an error or a different result.\n",
      "  return np.add.reduce(sorted[indexer] * weights, axis=axis) / sumval\n"
     ]
    },
    {
     "data": {
      "image/png": "[encoded data removed]",
      "text/plain": [
       "<Figure size 864x432 with 1 Axes>"
      ]
     },
     "metadata": {},
     "output_type": "display_data"
    }
   ],
   "source": [
    "# Plot percent of US winners per decade:\n",
    "fig, axes = plt.subplots(figsize=(12,6))\n",
    "axes = sns.lineplot(x='Decade', y='USWinners', data=df, ci=False);\n",
    "\n",
    "from matplotlib.ticker import PercentFormatter\n",
    "axes.yaxis.set_major_formatter(PercentFormatter(1.0, symbol='%'))\n",
    "plt.title('Percent of US Winners Per Decade');"
   ]
  },
  {
   "cell_type": "code",
   "execution_count": 21,
   "metadata": {},
   "outputs": [],
   "source": [
    "orgs = df[df['OrganizationCountry'] == 'United States of America']"
   ]
  },
  {
   "cell_type": "code",
   "execution_count": 22,
   "metadata": {},
   "outputs": [],
   "source": [
    "USorganizations = orgs['OrganizationName'].value_counts().head(10)"
   ]
  },
  {
   "cell_type": "code",
   "execution_count": 23,
   "metadata": {},
   "outputs": [
    {
     "data": {
      "text/plain": [
       "Text(0.5, 1.0, 'Number of Nobel Winners Per US Institution')"
      ]
     },
     "execution_count": 23,
     "metadata": {},
     "output_type": "execute_result"
    },
    {
     "data": {
      "image/png": "[encoded data removed]",
      "text/plain": [
       "<Figure size 864x432 with 1 Axes>"
      ]
     },
     "metadata": {},
     "output_type": "display_data"
    }
   ],
   "source": [
    "# Let's plot Top 10 US Institutions\n",
    "fig, axes = plt.subplots(figsize=(12, 6))\n",
    "axes = sns.barplot(x=USorganizations.index, y=USorganizations.values)\n",
    "plt.xticks(rotation =90)\n",
    "plt.ylabel('# of Nobels')\n",
    "plt.title(\"Number of Nobel Winners Per US Institution\")"
   ]
  },
  {
   "cell_type": "code",
   "execution_count": 24,
   "metadata": {},
   "outputs": [
    {
     "data": {
      "image/png": "[encoded data removed]",
      "text/plain": [
       "<Figure size 576x288 with 1 Axes>"
      ]
     },
     "metadata": {},
     "output_type": "display_data"
    }
   ],
   "source": [
    "# Let's see in which cities most US winners were born:\n",
    "city = df[df['BirthCountry'] == 'United States of America']\n",
    "USCities = city['BirthCity'].value_counts().head(10)\n",
    "fig, axes = plt.subplots(figsize=(8,4))\n",
    "axes= sns.barplot(x=USCities.values, y=USCities.index)\n"
   ]
  },
  {
   "cell_type": "markdown",
   "metadata": {},
   "source": [
    "# About 20% of US Nobel Winners were born in New York City\n",
    "Let's look at birth places of Nobel Prize winners globally:"
   ]
  },
  {
   "cell_type": "code",
   "execution_count": 25,
   "metadata": {},
   "outputs": [
    {
     "data": {
      "image/png": "[encoded data removed]",
      "text/plain": [
       "<Figure size 576x288 with 1 Axes>"
      ]
     },
     "metadata": {},
     "output_type": "display_data"
    }
   ],
   "source": [
    "AllCities = df['BirthCity'].value_counts().head(10)\n",
    "fig, axes = plt.subplots(figsize=(8,4))\n",
    "axes= sns.barplot(x=AllCities.values, y=AllCities.index)"
   ]
  },
  {
   "cell_type": "markdown",
   "metadata": {},
   "source": [
    "# New York had more winners than London and Paris combined. \n",
    "Let's see most common field for New York winners"
   ]
  },
  {
   "cell_type": "code",
   "execution_count": 26,
   "metadata": {},
   "outputs": [
    {
     "data": {
      "text/plain": [
       "Physics       15\n",
       "Medicine      14\n",
       "Chemistry      9\n",
       "Economics      8\n",
       "Peace          1\n",
       "Literature     1\n",
       "Name: Category, dtype: int64"
      ]
     },
     "execution_count": 26,
     "metadata": {},
     "output_type": "execute_result"
    }
   ],
   "source": [
    "new_york = df[df['BirthCity'] == 'New York, NY']\n",
    "ny_field = new_york['Category'].value_counts()\n",
    "ny_field"
   ]
  },
  {
   "cell_type": "code",
   "execution_count": 27,
   "metadata": {},
   "outputs": [
    {
     "data": {
      "image/png": "[encoded data removed]",
      "text/plain": [
       "<Figure size 576x288 with 1 Axes>"
      ]
     },
     "metadata": {},
     "output_type": "display_data"
    }
   ],
   "source": [
    "fig, axes = plt.subplots(figsize=(8,4))\n",
    "axes= sns.barplot(y=ny_field.values, x=ny_field.index)\n",
    "plt.ylabel('# of Nobels')\n",
    "plt.title('Number of Nobel Prizes per Field (New York City)');"
   ]
  },
  {
   "cell_type": "markdown",
   "metadata": {},
   "source": [
    "# Let's examine most common field in the US"
   ]
  },
  {
   "cell_type": "code",
   "execution_count": 28,
   "metadata": {},
   "outputs": [
    {
     "data": {
      "image/png": "[encoded data removed]",
      "text/plain": [
       "<Figure size 576x288 with 1 Axes>"
      ]
     },
     "metadata": {},
     "output_type": "display_data"
    }
   ],
   "source": [
    "common_field = city['Category'].value_counts()\n",
    "fig, axes = plt.subplots(figsize=(8,4))\n",
    "axes = sns.barplot(x=common_field.index, y=common_field.values)\n",
    "plt.ylabel('# of Nobels')\n",
    "plt.title('Number of Nobel Prizes per Field');"
   ]
  },
  {
   "cell_type": "markdown",
   "metadata": {},
   "source": [
    "# In the plot above we can see that there are 47 Nobel Laureates in Economics\n",
    "We know that the Nobel committe started giving awards in Economics in 1969. It looks like, on average, there was one Laureate from US for each year. Let's see how many Nobel Laureates were for each year and take a look at proportion of US nationals for each prize. "
   ]
  },
  {
   "cell_type": "code",
   "execution_count": 29,
   "metadata": {},
   "outputs": [
    {
     "data": {
      "text/plain": [
       "Medicine      227\n",
       "Physics       222\n",
       "Chemistry     194\n",
       "Peace         130\n",
       "Literature    113\n",
       "Economics      83\n",
       "Name: Category, dtype: int64"
      ]
     },
     "execution_count": 29,
     "metadata": {},
     "output_type": "execute_result"
    }
   ],
   "source": [
    "total_awards = df['Category'].value_counts()\n",
    "total_awards"
   ]
  },
  {
   "cell_type": "code",
   "execution_count": 30,
   "metadata": {},
   "outputs": [
    {
     "data": {
      "text/plain": [
       "Economics     0.566265\n",
       "Medicine      0.325991\n",
       "Physics       0.315315\n",
       "Chemistry     0.293814\n",
       "Peace         0.146154\n",
       "Literature    0.079646\n",
       "Name: Category, dtype: float64"
      ]
     },
     "execution_count": 30,
     "metadata": {},
     "output_type": "execute_result"
    }
   ],
   "source": [
    "proportion_us_winner = (common_field/total_awards).sort_values(ascending=False)\n",
    "proportion_us_winner"
   ]
  },
  {
   "cell_type": "code",
   "execution_count": 31,
   "metadata": {},
   "outputs": [
    {
     "data": {
      "image/png": "[encoded data removed]",
      "text/plain": [
       "<Figure size 576x432 with 1 Axes>"
      ]
     },
     "metadata": {},
     "output_type": "display_data"
    }
   ],
   "source": [
    "# plot proportions\n",
    "fig, axes = plt.subplots(figsize=(8,6))\n",
    "axes = sns.barplot(x=proportion_us_winner.index, y=proportion_us_winner.values)\n",
    "plt.ylabel(\"% of Awards\", size=15)\n",
    "plt.title('Percent of Awards Won by US Nationals for Each Field', size=15)\n",
    "from matplotlib.ticker import PercentFormatter\n",
    "axes.yaxis.set_major_formatter(PercentFormatter(1.0, symbol='%'));"
   ]
  },
  {
   "cell_type": "markdown",
   "metadata": {},
   "source": [
    "# Let's take a look at the age of Nobel Laureates"
   ]
  },
  {
   "cell_type": "code",
   "execution_count": 32,
   "metadata": {},
   "outputs": [],
   "source": [
    "# Convert BirthDate to datetime:\n",
    "df['BirthDate'] = pd.to_datetime(df['BirthDate'], errors='coerce')"
   ]
  },
  {
   "cell_type": "code",
   "execution_count": 33,
   "metadata": {},
   "outputs": [],
   "source": [
    "# Create an Age column:\n",
    "df['Age'] = df['Year'] - df['BirthDate'].dt.year"
   ]
  },
  {
   "cell_type": "code",
   "execution_count": 34,
   "metadata": {},
   "outputs": [
    {
     "data": {
      "text/html": [
       "<div>\n",
       "<style scoped>\n",
       "    .dataframe tbody tr th:only-of-type {\n",
       "        vertical-align: middle;\n",
       "    }\n",
       "\n",
       "    .dataframe tbody tr th {\n",
       "        vertical-align: top;\n",
       "    }\n",
       "\n",
       "    .dataframe thead th {\n",
       "        text-align: right;\n",
       "    }\n",
       "</style>\n",
       "<table border=\"1\" class=\"dataframe\">\n",
       "  <thead>\n",
       "    <tr style=\"text-align: right;\">\n",
       "      <th></th>\n",
       "      <th>mean</th>\n",
       "      <th>median</th>\n",
       "    </tr>\n",
       "    <tr>\n",
       "      <th>Category</th>\n",
       "      <th></th>\n",
       "      <th></th>\n",
       "    </tr>\n",
       "  </thead>\n",
       "  <tbody>\n",
       "    <tr>\n",
       "      <th>Chemistry</th>\n",
       "      <td>58.134715</td>\n",
       "      <td>57.0</td>\n",
       "    </tr>\n",
       "    <tr>\n",
       "      <th>Economics</th>\n",
       "      <td>67.158537</td>\n",
       "      <td>67.0</td>\n",
       "    </tr>\n",
       "    <tr>\n",
       "      <th>Literature</th>\n",
       "      <td>64.672566</td>\n",
       "      <td>67.0</td>\n",
       "    </tr>\n",
       "    <tr>\n",
       "      <th>Medicine</th>\n",
       "      <td>57.933921</td>\n",
       "      <td>57.0</td>\n",
       "    </tr>\n",
       "    <tr>\n",
       "      <th>Peace</th>\n",
       "      <td>61.388350</td>\n",
       "      <td>62.0</td>\n",
       "    </tr>\n",
       "    <tr>\n",
       "      <th>Physics</th>\n",
       "      <td>55.850000</td>\n",
       "      <td>55.0</td>\n",
       "    </tr>\n",
       "  </tbody>\n",
       "</table>\n",
       "</div>"
      ],
      "text/plain": [
       "                 mean  median\n",
       "Category                     \n",
       "Chemistry   58.134715    57.0\n",
       "Economics   67.158537    67.0\n",
       "Literature  64.672566    67.0\n",
       "Medicine    57.933921    57.0\n",
       "Peace       61.388350    62.0\n",
       "Physics     55.850000    55.0"
      ]
     },
     "execution_count": 34,
     "metadata": {},
     "output_type": "execute_result"
    }
   ],
   "source": [
    "# Check the average age of winners:\n",
    "df.groupby('Category', as_index=False)['Age'].agg(['mean', 'median'])"
   ]
  },
  {
   "cell_type": "code",
   "execution_count": 35,
   "metadata": {},
   "outputs": [
    {
     "data": {
      "text/html": [
       "<div>\n",
       "<style scoped>\n",
       "    .dataframe tbody tr th:only-of-type {\n",
       "        vertical-align: middle;\n",
       "    }\n",
       "\n",
       "    .dataframe tbody tr th {\n",
       "        vertical-align: top;\n",
       "    }\n",
       "\n",
       "    .dataframe thead th {\n",
       "        text-align: right;\n",
       "    }\n",
       "</style>\n",
       "<table border=\"1\" class=\"dataframe\">\n",
       "  <thead>\n",
       "    <tr style=\"text-align: right;\">\n",
       "      <th></th>\n",
       "      <th>Category</th>\n",
       "      <th>Sex</th>\n",
       "      <th>Age</th>\n",
       "    </tr>\n",
       "  </thead>\n",
       "  <tbody>\n",
       "    <tr>\n",
       "      <th>0</th>\n",
       "      <td>Chemistry</td>\n",
       "      <td>Female</td>\n",
       "      <td>51.500000</td>\n",
       "    </tr>\n",
       "    <tr>\n",
       "      <th>1</th>\n",
       "      <td>Chemistry</td>\n",
       "      <td>Male</td>\n",
       "      <td>58.275132</td>\n",
       "    </tr>\n",
       "    <tr>\n",
       "      <th>2</th>\n",
       "      <td>Economics</td>\n",
       "      <td>Female</td>\n",
       "      <td>76.000000</td>\n",
       "    </tr>\n",
       "    <tr>\n",
       "      <th>3</th>\n",
       "      <td>Economics</td>\n",
       "      <td>Male</td>\n",
       "      <td>66.937500</td>\n",
       "    </tr>\n",
       "    <tr>\n",
       "      <th>4</th>\n",
       "      <td>Literature</td>\n",
       "      <td>Female</td>\n",
       "      <td>63.071429</td>\n",
       "    </tr>\n",
       "    <tr>\n",
       "      <th>5</th>\n",
       "      <td>Literature</td>\n",
       "      <td>Male</td>\n",
       "      <td>64.898990</td>\n",
       "    </tr>\n",
       "    <tr>\n",
       "      <th>6</th>\n",
       "      <td>Medicine</td>\n",
       "      <td>Female</td>\n",
       "      <td>62.583333</td>\n",
       "    </tr>\n",
       "    <tr>\n",
       "      <th>7</th>\n",
       "      <td>Medicine</td>\n",
       "      <td>Male</td>\n",
       "      <td>57.674419</td>\n",
       "    </tr>\n",
       "    <tr>\n",
       "      <th>8</th>\n",
       "      <td>Peace</td>\n",
       "      <td>Female</td>\n",
       "      <td>52.062500</td>\n",
       "    </tr>\n",
       "    <tr>\n",
       "      <th>9</th>\n",
       "      <td>Peace</td>\n",
       "      <td>Male</td>\n",
       "      <td>63.103448</td>\n",
       "    </tr>\n",
       "    <tr>\n",
       "      <th>10</th>\n",
       "      <td>Physics</td>\n",
       "      <td>Female</td>\n",
       "      <td>46.500000</td>\n",
       "    </tr>\n",
       "    <tr>\n",
       "      <th>11</th>\n",
       "      <td>Physics</td>\n",
       "      <td>Male</td>\n",
       "      <td>55.935780</td>\n",
       "    </tr>\n",
       "  </tbody>\n",
       "</table>\n",
       "</div>"
      ],
      "text/plain": [
       "      Category     Sex        Age\n",
       "0    Chemistry  Female  51.500000\n",
       "1    Chemistry    Male  58.275132\n",
       "2    Economics  Female  76.000000\n",
       "3    Economics    Male  66.937500\n",
       "4   Literature  Female  63.071429\n",
       "5   Literature    Male  64.898990\n",
       "6     Medicine  Female  62.583333\n",
       "7     Medicine    Male  57.674419\n",
       "8        Peace  Female  52.062500\n",
       "9        Peace    Male  63.103448\n",
       "10     Physics  Female  46.500000\n",
       "11     Physics    Male  55.935780"
      ]
     },
     "execution_count": 35,
     "metadata": {},
     "output_type": "execute_result"
    }
   ],
   "source": [
    "df.groupby(['Category', 'Sex'], as_index=False)['Age'].mean()"
   ]
  },
  {
   "cell_type": "code",
   "execution_count": 36,
   "metadata": {},
   "outputs": [
    {
     "data": {
      "text/html": [
       "<div>\n",
       "<style scoped>\n",
       "    .dataframe tbody tr th:only-of-type {\n",
       "        vertical-align: middle;\n",
       "    }\n",
       "\n",
       "    .dataframe tbody tr th {\n",
       "        vertical-align: top;\n",
       "    }\n",
       "\n",
       "    .dataframe thead th {\n",
       "        text-align: right;\n",
       "    }\n",
       "</style>\n",
       "<table border=\"1\" class=\"dataframe\">\n",
       "  <thead>\n",
       "    <tr style=\"text-align: right;\">\n",
       "      <th></th>\n",
       "      <th>Category</th>\n",
       "      <th>Sex</th>\n",
       "      <th>Age</th>\n",
       "    </tr>\n",
       "  </thead>\n",
       "  <tbody>\n",
       "    <tr>\n",
       "      <th>2</th>\n",
       "      <td>Economics</td>\n",
       "      <td>Female</td>\n",
       "      <td>76.0000</td>\n",
       "    </tr>\n",
       "    <tr>\n",
       "      <th>3</th>\n",
       "      <td>Economics</td>\n",
       "      <td>Male</td>\n",
       "      <td>66.9375</td>\n",
       "    </tr>\n",
       "  </tbody>\n",
       "</table>\n",
       "</div>"
      ],
      "text/plain": [
       "    Category     Sex      Age\n",
       "2  Economics  Female  76.0000\n",
       "3  Economics    Male  66.9375"
      ]
     },
     "execution_count": 36,
     "metadata": {},
     "output_type": "execute_result"
    }
   ],
   "source": [
    "df.groupby(['Category', 'Sex'], as_index=False)['Age'].mean().nlargest(2, 'Age')"
   ]
  },
  {
   "cell_type": "code",
   "execution_count": 37,
   "metadata": {},
   "outputs": [
    {
     "data": {
      "image/png": "[encoded data removed]",
      "text/plain": [
       "<Figure size 576x432 with 1 Axes>"
      ]
     },
     "metadata": {},
     "output_type": "display_data"
    }
   ],
   "source": [
    "fig, axes = plt.subplots(figsize=(8,6))\n",
    "axes = sns.boxplot(x='Category', y='Age', data=df)\n",
    "plt.title('Boxplot of Age of Winners in Each Category');"
   ]
  },
  {
   "cell_type": "markdown",
   "metadata": {},
   "source": [
    "# There are two outliers, one in Economics and the other in Peace\n",
    "Economics Prize winners have the smallest age range, while Peace Prize winners have the largest. \n",
    "</p>Let's find out the outliers.</p>"
   ]
  },
  {
   "cell_type": "code",
   "execution_count": 38,
   "metadata": {},
   "outputs": [
    {
     "data": {
      "text/html": [
       "<div>\n",
       "<style scoped>\n",
       "    .dataframe tbody tr th:only-of-type {\n",
       "        vertical-align: middle;\n",
       "    }\n",
       "\n",
       "    .dataframe tbody tr th {\n",
       "        vertical-align: top;\n",
       "    }\n",
       "\n",
       "    .dataframe thead th {\n",
       "        text-align: right;\n",
       "    }\n",
       "</style>\n",
       "<table border=\"1\" class=\"dataframe\">\n",
       "  <thead>\n",
       "    <tr style=\"text-align: right;\">\n",
       "      <th></th>\n",
       "      <th>FullName</th>\n",
       "      <th>Category</th>\n",
       "      <th>Age</th>\n",
       "      <th>Year</th>\n",
       "    </tr>\n",
       "  </thead>\n",
       "  <tbody>\n",
       "    <tr>\n",
       "      <th>940</th>\n",
       "      <td>Malala Yousafzai</td>\n",
       "      <td>Peace</td>\n",
       "      <td>17.0</td>\n",
       "      <td>2014</td>\n",
       "    </tr>\n",
       "  </tbody>\n",
       "</table>\n",
       "</div>"
      ],
      "text/plain": [
       "             FullName Category   Age  Year\n",
       "940  Malala Yousafzai    Peace  17.0  2014"
      ]
     },
     "execution_count": 38,
     "metadata": {},
     "output_type": "execute_result"
    }
   ],
   "source": [
    "# Yougest person to receive a Nobel Prize:\n",
    "df[df[\"Age\"] <= 20][['FullName', 'Category','Age', 'Year']]"
   ]
  },
  {
   "cell_type": "code",
   "execution_count": 39,
   "metadata": {},
   "outputs": [
    {
     "data": {
      "text/html": [
       "<div>\n",
       "<style scoped>\n",
       "    .dataframe tbody tr th:only-of-type {\n",
       "        vertical-align: middle;\n",
       "    }\n",
       "\n",
       "    .dataframe tbody tr th {\n",
       "        vertical-align: top;\n",
       "    }\n",
       "\n",
       "    .dataframe thead th {\n",
       "        text-align: right;\n",
       "    }\n",
       "</style>\n",
       "<table border=\"1\" class=\"dataframe\">\n",
       "  <thead>\n",
       "    <tr style=\"text-align: right;\">\n",
       "      <th></th>\n",
       "      <th>FullName</th>\n",
       "      <th>Category</th>\n",
       "      <th>Age</th>\n",
       "      <th>Year</th>\n",
       "    </tr>\n",
       "  </thead>\n",
       "  <tbody>\n",
       "    <tr>\n",
       "      <th>825</th>\n",
       "      <td>Leonid Hurwicz</td>\n",
       "      <td>Economics</td>\n",
       "      <td>90.0</td>\n",
       "      <td>2007</td>\n",
       "    </tr>\n",
       "  </tbody>\n",
       "</table>\n",
       "</div>"
      ],
      "text/plain": [
       "           FullName   Category   Age  Year\n",
       "825  Leonid Hurwicz  Economics  90.0  2007"
      ]
     },
     "execution_count": 39,
     "metadata": {},
     "output_type": "execute_result"
    }
   ],
   "source": [
    "# The oldest person to recieve a Nobel Prize:\n",
    "df[df[\"Age\"] >= 90][['FullName', 'Category','Age', 'Year']]"
   ]
  },
  {
   "cell_type": "code",
   "execution_count": 40,
   "metadata": {},
   "outputs": [
    {
     "data": {
      "text/html": [
       "<div>\n",
       "<style scoped>\n",
       "    .dataframe tbody tr th:only-of-type {\n",
       "        vertical-align: middle;\n",
       "    }\n",
       "\n",
       "    .dataframe tbody tr th {\n",
       "        vertical-align: top;\n",
       "    }\n",
       "\n",
       "    .dataframe thead th {\n",
       "        text-align: right;\n",
       "    }\n",
       "</style>\n",
       "<table border=\"1\" class=\"dataframe\">\n",
       "  <thead>\n",
       "    <tr style=\"text-align: right;\">\n",
       "      <th></th>\n",
       "      <th>Decade</th>\n",
       "      <th>Age</th>\n",
       "    </tr>\n",
       "  </thead>\n",
       "  <tbody>\n",
       "    <tr>\n",
       "      <th>0</th>\n",
       "      <td>1900</td>\n",
       "      <td>57.771930</td>\n",
       "    </tr>\n",
       "    <tr>\n",
       "      <th>1</th>\n",
       "      <td>1910</td>\n",
       "      <td>52.842105</td>\n",
       "    </tr>\n",
       "    <tr>\n",
       "      <th>2</th>\n",
       "      <td>1920</td>\n",
       "      <td>54.981481</td>\n",
       "    </tr>\n",
       "    <tr>\n",
       "      <th>3</th>\n",
       "      <td>1930</td>\n",
       "      <td>51.000000</td>\n",
       "    </tr>\n",
       "    <tr>\n",
       "      <th>4</th>\n",
       "      <td>1940</td>\n",
       "      <td>58.047619</td>\n",
       "    </tr>\n",
       "    <tr>\n",
       "      <th>5</th>\n",
       "      <td>1950</td>\n",
       "      <td>54.717949</td>\n",
       "    </tr>\n",
       "    <tr>\n",
       "      <th>6</th>\n",
       "      <td>1960</td>\n",
       "      <td>56.106667</td>\n",
       "    </tr>\n",
       "    <tr>\n",
       "      <th>7</th>\n",
       "      <td>1970</td>\n",
       "      <td>59.311321</td>\n",
       "    </tr>\n",
       "    <tr>\n",
       "      <th>8</th>\n",
       "      <td>1980</td>\n",
       "      <td>60.250000</td>\n",
       "    </tr>\n",
       "    <tr>\n",
       "      <th>9</th>\n",
       "      <td>1990</td>\n",
       "      <td>62.221154</td>\n",
       "    </tr>\n",
       "    <tr>\n",
       "      <th>10</th>\n",
       "      <td>2000</td>\n",
       "      <td>65.865672</td>\n",
       "    </tr>\n",
       "    <tr>\n",
       "      <th>11</th>\n",
       "      <td>2010</td>\n",
       "      <td>65.946237</td>\n",
       "    </tr>\n",
       "  </tbody>\n",
       "</table>\n",
       "</div>"
      ],
      "text/plain": [
       "    Decade        Age\n",
       "0     1900  57.771930\n",
       "1     1910  52.842105\n",
       "2     1920  54.981481\n",
       "3     1930  51.000000\n",
       "4     1940  58.047619\n",
       "5     1950  54.717949\n",
       "6     1960  56.106667\n",
       "7     1970  59.311321\n",
       "8     1980  60.250000\n",
       "9     1990  62.221154\n",
       "10    2000  65.865672\n",
       "11    2010  65.946237"
      ]
     },
     "execution_count": 40,
     "metadata": {},
     "output_type": "execute_result"
    }
   ],
   "source": [
    "df.groupby('Decade', as_index=False)['Age'].mean()"
   ]
  },
  {
   "cell_type": "markdown",
   "metadata": {},
   "source": [
    "# It looks like the average age at which Nobel Prizes are awarded have been steadily rising. \n",
    "Let's plot the Age vs Year of the Nobel Prize. "
   ]
  },
  {
   "cell_type": "code",
   "execution_count": 41,
   "metadata": {},
   "outputs": [
    {
     "data": {
      "image/png": "[encoded data removed]",
      "text/plain": [
       "<Figure size 720x360 with 1 Axes>"
      ]
     },
     "metadata": {},
     "output_type": "display_data"
    }
   ],
   "source": [
    "sns.lmplot(x='Year', y='Age', data=df, aspect=2 );"
   ]
  },
  {
   "cell_type": "markdown",
   "metadata": {},
   "source": [
    "# Let's see if there is anyone that got multiple Nobels"
   ]
  },
  {
   "cell_type": "code",
   "execution_count": 56,
   "metadata": {},
   "outputs": [],
   "source": [
    "multiple = df.groupby(\"FullName\").filter(lambda multi : len(multi) >= 2)"
   ]
  },
  {
   "cell_type": "code",
   "execution_count": 80,
   "metadata": {},
   "outputs": [
    {
     "data": {
      "text/plain": [
       "128"
      ]
     },
     "execution_count": 80,
     "metadata": {},
     "output_type": "execute_result"
    }
   ],
   "source": [
    "len(multiple)"
   ]
  },
  {
   "cell_type": "code",
   "execution_count": 79,
   "metadata": {},
   "outputs": [
    {
     "data": {
      "text/plain": [
       "Jack W. Szostak                                                                      3\n",
       "Comité international de la Croix Rouge (International Committee of the Red Cross)    3\n",
       "Stefan W. Hell                                                                       2\n",
       "Igor Yevgenyevich Tamm                                                               2\n",
       "Walther Bothe                                                                        2\n",
       "Name: FullName, dtype: int64"
      ]
     },
     "execution_count": 79,
     "metadata": {},
     "output_type": "execute_result"
    }
   ],
   "source": [
    "multiple['FullName'].value_counts().head()"
   ]
  },
  {
   "cell_type": "code",
   "execution_count": 44,
   "metadata": {},
   "outputs": [
    {
     "data": {
      "text/html": [
       "<div>\n",
       "<style scoped>\n",
       "    .dataframe tbody tr th:only-of-type {\n",
       "        vertical-align: middle;\n",
       "    }\n",
       "\n",
       "    .dataframe tbody tr th {\n",
       "        vertical-align: top;\n",
       "    }\n",
       "\n",
       "    .dataframe thead th {\n",
       "        text-align: right;\n",
       "    }\n",
       "</style>\n",
       "<table border=\"1\" class=\"dataframe\">\n",
       "  <thead>\n",
       "    <tr style=\"text-align: right;\">\n",
       "      <th></th>\n",
       "      <th>Year</th>\n",
       "      <th>Category</th>\n",
       "      <th>Prize</th>\n",
       "      <th>Motivation</th>\n",
       "      <th>PrizeShare</th>\n",
       "      <th>LaureateID</th>\n",
       "      <th>LaureateType</th>\n",
       "      <th>FullName</th>\n",
       "      <th>BirthDate</th>\n",
       "      <th>BirthCity</th>\n",
       "      <th>...</th>\n",
       "      <th>Sex</th>\n",
       "      <th>OrganizationName</th>\n",
       "      <th>OrganizationCity</th>\n",
       "      <th>OrganizationCountry</th>\n",
       "      <th>DeathDate</th>\n",
       "      <th>DeathCity</th>\n",
       "      <th>DeathCountry</th>\n",
       "      <th>USWinners</th>\n",
       "      <th>Decade</th>\n",
       "      <th>Age</th>\n",
       "    </tr>\n",
       "  </thead>\n",
       "  <tbody>\n",
       "    <tr>\n",
       "      <th>19</th>\n",
       "      <td>1903</td>\n",
       "      <td>Physics</td>\n",
       "      <td>The Nobel Prize in Physics 1903</td>\n",
       "      <td>\"in recognition of the extraordinary services ...</td>\n",
       "      <td>1/4</td>\n",
       "      <td>6</td>\n",
       "      <td>Individual</td>\n",
       "      <td>Marie Curie, née Sklodowska</td>\n",
       "      <td>1867-11-07</td>\n",
       "      <td>Warsaw</td>\n",
       "      <td>...</td>\n",
       "      <td>Female</td>\n",
       "      <td>NaN</td>\n",
       "      <td>NaN</td>\n",
       "      <td>NaN</td>\n",
       "      <td>1934-07-04</td>\n",
       "      <td>Sallanches</td>\n",
       "      <td>France</td>\n",
       "      <td>False</td>\n",
       "      <td>1900</td>\n",
       "      <td>36.0</td>\n",
       "    </tr>\n",
       "    <tr>\n",
       "      <th>46</th>\n",
       "      <td>1908</td>\n",
       "      <td>Medicine</td>\n",
       "      <td>The Nobel Prize in Physiology or Medicine 1908</td>\n",
       "      <td>\"in recognition of their work on immunity\"</td>\n",
       "      <td>1/2</td>\n",
       "      <td>302</td>\n",
       "      <td>Individual</td>\n",
       "      <td>Paul Ehrlich</td>\n",
       "      <td>1854-03-14</td>\n",
       "      <td>Strehlen (Strzelin)</td>\n",
       "      <td>...</td>\n",
       "      <td>Male</td>\n",
       "      <td>Goettingen University</td>\n",
       "      <td>Göttingen</td>\n",
       "      <td>Germany</td>\n",
       "      <td>1915-08-20</td>\n",
       "      <td>Bad Homburg vor der Höhe</td>\n",
       "      <td>Germany</td>\n",
       "      <td>False</td>\n",
       "      <td>1900</td>\n",
       "      <td>54.0</td>\n",
       "    </tr>\n",
       "    <tr>\n",
       "      <th>47</th>\n",
       "      <td>1908</td>\n",
       "      <td>Medicine</td>\n",
       "      <td>The Nobel Prize in Physiology or Medicine 1908</td>\n",
       "      <td>\"in recognition of their work on immunity\"</td>\n",
       "      <td>1/2</td>\n",
       "      <td>302</td>\n",
       "      <td>Individual</td>\n",
       "      <td>Paul Ehrlich</td>\n",
       "      <td>1854-03-14</td>\n",
       "      <td>Strehlen (Strzelin)</td>\n",
       "      <td>...</td>\n",
       "      <td>Male</td>\n",
       "      <td>Königliches Institut für experimentelle Therap...</td>\n",
       "      <td>Frankfurt-on-the-Main</td>\n",
       "      <td>Germany</td>\n",
       "      <td>1915-08-20</td>\n",
       "      <td>Bad Homburg vor der Höhe</td>\n",
       "      <td>Germany</td>\n",
       "      <td>False</td>\n",
       "      <td>1900</td>\n",
       "      <td>54.0</td>\n",
       "    </tr>\n",
       "    <tr>\n",
       "      <th>63</th>\n",
       "      <td>1911</td>\n",
       "      <td>Chemistry</td>\n",
       "      <td>The Nobel Prize in Chemistry 1911</td>\n",
       "      <td>\"in recognition of her services to the advance...</td>\n",
       "      <td>1/1</td>\n",
       "      <td>6</td>\n",
       "      <td>Individual</td>\n",
       "      <td>Marie Curie, née Sklodowska</td>\n",
       "      <td>1867-11-07</td>\n",
       "      <td>Warsaw</td>\n",
       "      <td>...</td>\n",
       "      <td>Female</td>\n",
       "      <td>Sorbonne University</td>\n",
       "      <td>Paris</td>\n",
       "      <td>France</td>\n",
       "      <td>1934-07-04</td>\n",
       "      <td>Sallanches</td>\n",
       "      <td>France</td>\n",
       "      <td>False</td>\n",
       "      <td>1910</td>\n",
       "      <td>44.0</td>\n",
       "    </tr>\n",
       "    <tr>\n",
       "      <th>90</th>\n",
       "      <td>1917</td>\n",
       "      <td>Peace</td>\n",
       "      <td>The Nobel Peace Prize 1917</td>\n",
       "      <td>NaN</td>\n",
       "      <td>1/1</td>\n",
       "      <td>482</td>\n",
       "      <td>Organization</td>\n",
       "      <td>Comité international de la Croix Rouge (Intern...</td>\n",
       "      <td>NaT</td>\n",
       "      <td>NaN</td>\n",
       "      <td>...</td>\n",
       "      <td>NaN</td>\n",
       "      <td>NaN</td>\n",
       "      <td>NaN</td>\n",
       "      <td>NaN</td>\n",
       "      <td>NaN</td>\n",
       "      <td>NaN</td>\n",
       "      <td>NaN</td>\n",
       "      <td>False</td>\n",
       "      <td>1910</td>\n",
       "      <td>NaN</td>\n",
       "    </tr>\n",
       "  </tbody>\n",
       "</table>\n",
       "<p>5 rows × 21 columns</p>\n",
       "</div>"
      ],
      "text/plain": [
       "    Year   Category                                           Prize  \\\n",
       "19  1903    Physics                 The Nobel Prize in Physics 1903   \n",
       "46  1908   Medicine  The Nobel Prize in Physiology or Medicine 1908   \n",
       "47  1908   Medicine  The Nobel Prize in Physiology or Medicine 1908   \n",
       "63  1911  Chemistry               The Nobel Prize in Chemistry 1911   \n",
       "90  1917      Peace                      The Nobel Peace Prize 1917   \n",
       "\n",
       "                                           Motivation PrizeShare  LaureateID  \\\n",
       "19  \"in recognition of the extraordinary services ...        1/4           6   \n",
       "46         \"in recognition of their work on immunity\"        1/2         302   \n",
       "47         \"in recognition of their work on immunity\"        1/2         302   \n",
       "63  \"in recognition of her services to the advance...        1/1           6   \n",
       "90                                                NaN        1/1         482   \n",
       "\n",
       "    LaureateType                                           FullName  \\\n",
       "19    Individual                        Marie Curie, née Sklodowska   \n",
       "46    Individual                                       Paul Ehrlich   \n",
       "47    Individual                                       Paul Ehrlich   \n",
       "63    Individual                        Marie Curie, née Sklodowska   \n",
       "90  Organization  Comité international de la Croix Rouge (Intern...   \n",
       "\n",
       "    BirthDate            BirthCity  ...      Sex  \\\n",
       "19 1867-11-07               Warsaw  ...   Female   \n",
       "46 1854-03-14  Strehlen (Strzelin)  ...     Male   \n",
       "47 1854-03-14  Strehlen (Strzelin)  ...     Male   \n",
       "63 1867-11-07               Warsaw  ...   Female   \n",
       "90        NaT                  NaN  ...      NaN   \n",
       "\n",
       "                                     OrganizationName       OrganizationCity  \\\n",
       "19                                                NaN                    NaN   \n",
       "46                              Goettingen University              Göttingen   \n",
       "47  Königliches Institut für experimentelle Therap...  Frankfurt-on-the-Main   \n",
       "63                                Sorbonne University                  Paris   \n",
       "90                                                NaN                    NaN   \n",
       "\n",
       "   OrganizationCountry   DeathDate                 DeathCity DeathCountry  \\\n",
       "19                 NaN  1934-07-04                Sallanches       France   \n",
       "46             Germany  1915-08-20  Bad Homburg vor der Höhe      Germany   \n",
       "47             Germany  1915-08-20  Bad Homburg vor der Höhe      Germany   \n",
       "63              France  1934-07-04                Sallanches       France   \n",
       "90                 NaN         NaN                       NaN          NaN   \n",
       "\n",
       "   USWinners  Decade   Age  \n",
       "19     False    1900  36.0  \n",
       "46     False    1900  54.0  \n",
       "47     False    1900  54.0  \n",
       "63     False    1910  44.0  \n",
       "90     False    1910   NaN  \n",
       "\n",
       "[5 rows x 21 columns]"
      ]
     },
     "execution_count": 44,
     "metadata": {},
     "output_type": "execute_result"
    }
   ],
   "source": [
    "multiple.head()"
   ]
  },
  {
   "cell_type": "markdown",
   "metadata": {},
   "source": [
    "# It seems like there are 128 repeat wins, but that isn't the case in reality. I know only one person won two: Marie Curie won one in Physics and one in Chemistry. Something must be wrong with the dataset. \n",
    "There are some duplicate entries for some Laureates. \n",
    "Let's clean the data a bit. This should have been done earlier, but I wasn't expecting to run into duplicate entries. "
   ]
  },
  {
   "cell_type": "code",
   "execution_count": 67,
   "metadata": {},
   "outputs": [],
   "source": [
    "# Let's drop duplicate entries:\n",
    "df1 = df.drop_duplicates(subset=['Year','Category','Motivation', 'FullName'], keep='first')"
   ]
  },
  {
   "cell_type": "code",
   "execution_count": 69,
   "metadata": {},
   "outputs": [
    {
     "data": {
      "text/plain": [
       "911"
      ]
     },
     "execution_count": 69,
     "metadata": {},
     "output_type": "execute_result"
    }
   ],
   "source": [
    "# We have actually 911 unique awards. \n",
    "len(df1)"
   ]
  },
  {
   "cell_type": "code",
   "execution_count": 71,
   "metadata": {},
   "outputs": [
    {
     "data": {
      "text/html": [
       "<div>\n",
       "<style scoped>\n",
       "    .dataframe tbody tr th:only-of-type {\n",
       "        vertical-align: middle;\n",
       "    }\n",
       "\n",
       "    .dataframe tbody tr th {\n",
       "        vertical-align: top;\n",
       "    }\n",
       "\n",
       "    .dataframe thead th {\n",
       "        text-align: right;\n",
       "    }\n",
       "</style>\n",
       "<table border=\"1\" class=\"dataframe\">\n",
       "  <thead>\n",
       "    <tr style=\"text-align: right;\">\n",
       "      <th></th>\n",
       "      <th>Year</th>\n",
       "      <th>Category</th>\n",
       "      <th>Prize</th>\n",
       "      <th>Motivation</th>\n",
       "      <th>PrizeShare</th>\n",
       "      <th>LaureateID</th>\n",
       "      <th>LaureateType</th>\n",
       "      <th>FullName</th>\n",
       "      <th>BirthDate</th>\n",
       "      <th>BirthCity</th>\n",
       "      <th>...</th>\n",
       "      <th>Sex</th>\n",
       "      <th>OrganizationName</th>\n",
       "      <th>OrganizationCity</th>\n",
       "      <th>OrganizationCountry</th>\n",
       "      <th>DeathDate</th>\n",
       "      <th>DeathCity</th>\n",
       "      <th>DeathCountry</th>\n",
       "      <th>USWinners</th>\n",
       "      <th>Decade</th>\n",
       "      <th>Age</th>\n",
       "    </tr>\n",
       "  </thead>\n",
       "  <tbody>\n",
       "    <tr>\n",
       "      <th>45</th>\n",
       "      <td>1908</td>\n",
       "      <td>Medicine</td>\n",
       "      <td>The Nobel Prize in Physiology or Medicine 1908</td>\n",
       "      <td>\"in recognition of their work on immunity\"</td>\n",
       "      <td>1/2</td>\n",
       "      <td>301</td>\n",
       "      <td>Individual</td>\n",
       "      <td>Ilya Ilyich Mechnikov</td>\n",
       "      <td>1845-05-15</td>\n",
       "      <td>Kharkov (Kharkiv)</td>\n",
       "      <td>...</td>\n",
       "      <td>Male</td>\n",
       "      <td>Institut Pasteur</td>\n",
       "      <td>Paris</td>\n",
       "      <td>France</td>\n",
       "      <td>1916-07-15</td>\n",
       "      <td>Paris</td>\n",
       "      <td>France</td>\n",
       "      <td>False</td>\n",
       "      <td>1900</td>\n",
       "      <td>63.0</td>\n",
       "    </tr>\n",
       "    <tr>\n",
       "      <th>46</th>\n",
       "      <td>1908</td>\n",
       "      <td>Medicine</td>\n",
       "      <td>The Nobel Prize in Physiology or Medicine 1908</td>\n",
       "      <td>\"in recognition of their work on immunity\"</td>\n",
       "      <td>1/2</td>\n",
       "      <td>302</td>\n",
       "      <td>Individual</td>\n",
       "      <td>Paul Ehrlich</td>\n",
       "      <td>1854-03-14</td>\n",
       "      <td>Strehlen (Strzelin)</td>\n",
       "      <td>...</td>\n",
       "      <td>Male</td>\n",
       "      <td>Goettingen University</td>\n",
       "      <td>Göttingen</td>\n",
       "      <td>Germany</td>\n",
       "      <td>1915-08-20</td>\n",
       "      <td>Bad Homburg vor der Höhe</td>\n",
       "      <td>Germany</td>\n",
       "      <td>False</td>\n",
       "      <td>1900</td>\n",
       "      <td>54.0</td>\n",
       "    </tr>\n",
       "    <tr>\n",
       "      <th>47</th>\n",
       "      <td>1908</td>\n",
       "      <td>Medicine</td>\n",
       "      <td>The Nobel Prize in Physiology or Medicine 1908</td>\n",
       "      <td>\"in recognition of their work on immunity\"</td>\n",
       "      <td>1/2</td>\n",
       "      <td>302</td>\n",
       "      <td>Individual</td>\n",
       "      <td>Paul Ehrlich</td>\n",
       "      <td>1854-03-14</td>\n",
       "      <td>Strehlen (Strzelin)</td>\n",
       "      <td>...</td>\n",
       "      <td>Male</td>\n",
       "      <td>Königliches Institut für experimentelle Therap...</td>\n",
       "      <td>Frankfurt-on-the-Main</td>\n",
       "      <td>Germany</td>\n",
       "      <td>1915-08-20</td>\n",
       "      <td>Bad Homburg vor der Höhe</td>\n",
       "      <td>Germany</td>\n",
       "      <td>False</td>\n",
       "      <td>1900</td>\n",
       "      <td>54.0</td>\n",
       "    </tr>\n",
       "  </tbody>\n",
       "</table>\n",
       "<p>3 rows × 21 columns</p>\n",
       "</div>"
      ],
      "text/plain": [
       "    Year  Category                                           Prize  \\\n",
       "45  1908  Medicine  The Nobel Prize in Physiology or Medicine 1908   \n",
       "46  1908  Medicine  The Nobel Prize in Physiology or Medicine 1908   \n",
       "47  1908  Medicine  The Nobel Prize in Physiology or Medicine 1908   \n",
       "\n",
       "                                    Motivation PrizeShare  LaureateID  \\\n",
       "45  \"in recognition of their work on immunity\"        1/2         301   \n",
       "46  \"in recognition of their work on immunity\"        1/2         302   \n",
       "47  \"in recognition of their work on immunity\"        1/2         302   \n",
       "\n",
       "   LaureateType               FullName  BirthDate            BirthCity  ...   \\\n",
       "45   Individual  Ilya Ilyich Mechnikov 1845-05-15    Kharkov (Kharkiv)  ...    \n",
       "46   Individual           Paul Ehrlich 1854-03-14  Strehlen (Strzelin)  ...    \n",
       "47   Individual           Paul Ehrlich 1854-03-14  Strehlen (Strzelin)  ...    \n",
       "\n",
       "     Sex                                   OrganizationName  \\\n",
       "45  Male                                   Institut Pasteur   \n",
       "46  Male                              Goettingen University   \n",
       "47  Male  Königliches Institut für experimentelle Therap...   \n",
       "\n",
       "         OrganizationCity OrganizationCountry   DeathDate  \\\n",
       "45                  Paris              France  1916-07-15   \n",
       "46              Göttingen             Germany  1915-08-20   \n",
       "47  Frankfurt-on-the-Main             Germany  1915-08-20   \n",
       "\n",
       "                   DeathCity DeathCountry USWinners  Decade   Age  \n",
       "45                     Paris       France     False    1900  63.0  \n",
       "46  Bad Homburg vor der Höhe      Germany     False    1900  54.0  \n",
       "47  Bad Homburg vor der Höhe      Germany     False    1900  54.0  \n",
       "\n",
       "[3 rows x 21 columns]"
      ]
     },
     "execution_count": 71,
     "metadata": {},
     "output_type": "execute_result"
    }
   ],
   "source": [
    "# I had to drop duplicates by subsetting,\n",
    "#because some winners like Paul Ehrlich have different values for some columns (different org name.) \n",
    "# But he shared the nobel with Ilya Ilyich Mechnikow\n",
    "df[45:48]"
   ]
  },
  {
   "cell_type": "markdown",
   "metadata": {},
   "source": [
    "# Let's see how many people actually won more than one Nobel"
   ]
  },
  {
   "cell_type": "code",
   "execution_count": 92,
   "metadata": {},
   "outputs": [
    {
     "data": {
      "text/plain": [
       "Comité international de la Croix Rouge (International Committee of the Red Cross)    3\n",
       "Office of the United Nations High Commissioner for Refugees (UNHCR)                  2\n",
       "Linus Carl Pauling                                                                   2\n",
       "Frederick Sanger                                                                     2\n",
       "John Bardeen                                                                         2\n",
       "Marie Curie, née Sklodowska                                                          2\n",
       "Name: FullName, dtype: int64"
      ]
     },
     "execution_count": 92,
     "metadata": {},
     "output_type": "execute_result"
    }
   ],
   "source": [
    "repeat_winners = df1.groupby(\"FullName\").filter(lambda multi : len(multi) >= 2)\n",
    "repeat = repeat_winners['FullName'].value_counts()\n",
    "repeat"
   ]
  },
  {
   "cell_type": "markdown",
   "metadata": {},
   "source": [
    "# So we have 4 individuals and 2 organizations that have won more than 1 Nobel Prize. "
   ]
  },
  {
   "cell_type": "code",
   "execution_count": 93,
   "metadata": {},
   "outputs": [
    {
     "data": {
      "image/png": "[encoded data removed]",
      "text/plain": [
       "<Figure size 432x288 with 1 Axes>"
      ]
     },
     "metadata": {},
     "output_type": "display_data"
    }
   ],
   "source": [
    "sns.barplot(x= repeat.index, y = repeat.values)\n",
    "plt.xticks(rotation = 90);"
   ]
  },
  {
   "cell_type": "code",
   "execution_count": null,
   "metadata": {},
   "outputs": [],
   "source": []
  }
 ],
 "metadata": {
  "kernelspec": {
   "display_name": "Python 3",
   "language": "python",
   "name": "python3"
  },
  "language_info": {
   "codemirror_mode": {
    "name": "ipython",
    "version": 3
   },
   "file_extension": ".py",
   "mimetype": "text/x-python",
   "name": "python",
   "nbconvert_exporter": "python",
   "pygments_lexer": "ipython3",
   "version": "3.7.1"
  }
 },
 "nbformat": 4,
 "nbformat_minor": 2
}
